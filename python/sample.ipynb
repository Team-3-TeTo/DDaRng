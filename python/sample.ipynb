{
 "cells": [
  {
   "cell_type": "code",
   "execution_count": 5,
   "metadata": {},
   "outputs": [],
   "source": [
    "import pandas as pd"
   ]
  },
  {
   "cell_type": "code",
   "execution_count": 6,
   "metadata": {},
   "outputs": [],
   "source": [
    "station = pd.read_csv('../Data/서대문구_대여소_위치정보.csv')\n",
    "position = pd.read_csv('../Data/고도.csv')"
   ]
  },
  {
   "cell_type": "code",
   "execution_count": 7,
   "metadata": {},
   "outputs": [
    {
     "data": {
      "text/html": [
       "<div>\n",
       "<style scoped>\n",
       "    .dataframe tbody tr th:only-of-type {\n",
       "        vertical-align: middle;\n",
       "    }\n",
       "\n",
       "    .dataframe tbody tr th {\n",
       "        vertical-align: top;\n",
       "    }\n",
       "\n",
       "    .dataframe thead th {\n",
       "        text-align: right;\n",
       "    }\n",
       "</style>\n",
       "<table border=\"1\" class=\"dataframe\">\n",
       "  <thead>\n",
       "    <tr style=\"text-align: right;\">\n",
       "      <th></th>\n",
       "      <th>대여소_ID</th>\n",
       "      <th>주소1</th>\n",
       "      <th>위도</th>\n",
       "      <th>경도</th>\n",
       "    </tr>\n",
       "  </thead>\n",
       "  <tbody>\n",
       "    <tr>\n",
       "      <th>0</th>\n",
       "      <td>ST-555</td>\n",
       "      <td>서울특별시 서대문구 거북골로 34</td>\n",
       "      <td>37.581097</td>\n",
       "      <td>126.924026</td>\n",
       "    </tr>\n",
       "    <tr>\n",
       "      <th>1</th>\n",
       "      <td>ST-43</td>\n",
       "      <td>서울특별시 서대문구 창천동 84-16</td>\n",
       "      <td>37.559864</td>\n",
       "      <td>126.934418</td>\n",
       "    </tr>\n",
       "    <tr>\n",
       "      <th>2</th>\n",
       "      <td>ST-42</td>\n",
       "      <td>서울특별시 서대문구 연세로 50</td>\n",
       "      <td>37.562382</td>\n",
       "      <td>126.932648</td>\n",
       "    </tr>\n",
       "    <tr>\n",
       "      <th>3</th>\n",
       "      <td>ST-41</td>\n",
       "      <td>서울특별시 서대문구 연세로 50-1</td>\n",
       "      <td>37.560009</td>\n",
       "      <td>126.940735</td>\n",
       "    </tr>\n",
       "    <tr>\n",
       "      <th>4</th>\n",
       "      <td>ST-40</td>\n",
       "      <td>서울특별시 서대문구 증가로 264</td>\n",
       "      <td>37.559177</td>\n",
       "      <td>126.934525</td>\n",
       "    </tr>\n",
       "  </tbody>\n",
       "</table>\n",
       "</div>"
      ],
      "text/plain": [
       "   대여소_ID                   주소1         위도          경도\n",
       "0  ST-555    서울특별시 서대문구 거북골로 34  37.581097  126.924026\n",
       "1   ST-43  서울특별시 서대문구 창천동 84-16  37.559864  126.934418\n",
       "2   ST-42     서울특별시 서대문구 연세로 50  37.562382  126.932648\n",
       "3   ST-41   서울특별시 서대문구 연세로 50-1  37.560009  126.940735\n",
       "4   ST-40    서울특별시 서대문구 증가로 264  37.559177  126.934525"
      ]
     },
     "execution_count": 7,
     "metadata": {},
     "output_type": "execute_result"
    }
   ],
   "source": [
    "station.head()"
   ]
  },
  {
   "cell_type": "code",
   "execution_count": 8,
   "metadata": {},
   "outputs": [
    {
     "data": {
      "text/html": [
       "<div>\n",
       "<style scoped>\n",
       "    .dataframe tbody tr th:only-of-type {\n",
       "        vertical-align: middle;\n",
       "    }\n",
       "\n",
       "    .dataframe tbody tr th {\n",
       "        vertical-align: top;\n",
       "    }\n",
       "\n",
       "    .dataframe thead th {\n",
       "        text-align: right;\n",
       "    }\n",
       "</style>\n",
       "<table border=\"1\" class=\"dataframe\">\n",
       "  <thead>\n",
       "    <tr style=\"text-align: right;\">\n",
       "      <th></th>\n",
       "      <th>대여소_ID</th>\n",
       "      <th>고도(m)</th>\n",
       "    </tr>\n",
       "  </thead>\n",
       "  <tbody>\n",
       "    <tr>\n",
       "      <th>0</th>\n",
       "      <td>ST-555</td>\n",
       "      <td>29.449535</td>\n",
       "    </tr>\n",
       "    <tr>\n",
       "      <th>1</th>\n",
       "      <td>ST-43</td>\n",
       "      <td>26.047941</td>\n",
       "    </tr>\n",
       "    <tr>\n",
       "      <th>2</th>\n",
       "      <td>ST-42</td>\n",
       "      <td>32.998287</td>\n",
       "    </tr>\n",
       "    <tr>\n",
       "      <th>3</th>\n",
       "      <td>ST-41</td>\n",
       "      <td>25.396618</td>\n",
       "    </tr>\n",
       "    <tr>\n",
       "      <th>4</th>\n",
       "      <td>ST-40</td>\n",
       "      <td>22.443741</td>\n",
       "    </tr>\n",
       "  </tbody>\n",
       "</table>\n",
       "</div>"
      ],
      "text/plain": [
       "   대여소_ID      고도(m)\n",
       "0  ST-555  29.449535\n",
       "1   ST-43  26.047941\n",
       "2   ST-42  32.998287\n",
       "3   ST-41  25.396618\n",
       "4   ST-40  22.443741"
      ]
     },
     "execution_count": 8,
     "metadata": {},
     "output_type": "execute_result"
    }
   ],
   "source": [
    "position.head()"
   ]
  },
  {
   "cell_type": "code",
   "execution_count": 9,
   "metadata": {},
   "outputs": [],
   "source": [
    "station = pd.merge(station,position, on='대여소_ID',how='left')"
   ]
  },
  {
   "cell_type": "code",
   "execution_count": 10,
   "metadata": {},
   "outputs": [],
   "source": [
    "base_list = [\n",
    "    'ST-1491', 'ST-2208', 'ST-2216', 'ST-222', 'ST-227', 'ST-2897', 'ST-30',\n",
    "    'ST-3062', 'ST-3140','ST-1190', 'ST-2205', 'ST-2206', 'ST-2210', 'ST-231', 'ST-347',\n",
    "    'ST-2213', 'ST-3051', 'ST-3113', 'ST-3139','ST-2204', 'ST-223', 'ST-349', 'ST-350',\n",
    "    'ST-232', 'ST-25', 'ST-555','ST-33', 'ST-35','ST-17'\n",
    "]"
   ]
  },
  {
   "cell_type": "code",
   "execution_count": 11,
   "metadata": {},
   "outputs": [
    {
     "data": {
      "text/html": [
       "<div>\n",
       "<style scoped>\n",
       "    .dataframe tbody tr th:only-of-type {\n",
       "        vertical-align: middle;\n",
       "    }\n",
       "\n",
       "    .dataframe tbody tr th {\n",
       "        vertical-align: top;\n",
       "    }\n",
       "\n",
       "    .dataframe thead th {\n",
       "        text-align: right;\n",
       "    }\n",
       "</style>\n",
       "<table border=\"1\" class=\"dataframe\">\n",
       "  <thead>\n",
       "    <tr style=\"text-align: right;\">\n",
       "      <th></th>\n",
       "      <th>대여소_ID</th>\n",
       "      <th>주소1</th>\n",
       "      <th>위도</th>\n",
       "      <th>경도</th>\n",
       "      <th>고도(m)</th>\n",
       "    </tr>\n",
       "  </thead>\n",
       "  <tbody>\n",
       "    <tr>\n",
       "      <th>0</th>\n",
       "      <td>ST-555</td>\n",
       "      <td>서울특별시 서대문구 거북골로 34</td>\n",
       "      <td>37.581097</td>\n",
       "      <td>126.924026</td>\n",
       "      <td>29.449535</td>\n",
       "    </tr>\n",
       "    <tr>\n",
       "      <th>11</th>\n",
       "      <td>ST-350</td>\n",
       "      <td>서울특별시 서대문구 불광천길 36</td>\n",
       "      <td>37.577316</td>\n",
       "      <td>126.902969</td>\n",
       "      <td>9.473830</td>\n",
       "    </tr>\n",
       "    <tr>\n",
       "      <th>12</th>\n",
       "      <td>ST-35</td>\n",
       "      <td>서울특별시 서대문구 불광천길 150</td>\n",
       "      <td>37.582031</td>\n",
       "      <td>126.908997</td>\n",
       "      <td>11.436312</td>\n",
       "    </tr>\n",
       "    <tr>\n",
       "      <th>13</th>\n",
       "      <td>ST-349</td>\n",
       "      <td>서울특별시 서대문구 북가좌동 352-9</td>\n",
       "      <td>37.579876</td>\n",
       "      <td>126.906349</td>\n",
       "      <td>7.007851</td>\n",
       "    </tr>\n",
       "    <tr>\n",
       "      <th>15</th>\n",
       "      <td>ST-347</td>\n",
       "      <td>서울특별시 서대문구 응암로 66</td>\n",
       "      <td>37.578892</td>\n",
       "      <td>126.910736</td>\n",
       "      <td>14.477630</td>\n",
       "    </tr>\n",
       "  </tbody>\n",
       "</table>\n",
       "</div>"
      ],
      "text/plain": [
       "    대여소_ID                    주소1         위도          경도      고도(m)\n",
       "0   ST-555     서울특별시 서대문구 거북골로 34  37.581097  126.924026  29.449535\n",
       "11  ST-350     서울특별시 서대문구 불광천길 36  37.577316  126.902969   9.473830\n",
       "12   ST-35    서울특별시 서대문구 불광천길 150  37.582031  126.908997  11.436312\n",
       "13  ST-349  서울특별시 서대문구 북가좌동 352-9  37.579876  126.906349   7.007851\n",
       "15  ST-347      서울특별시 서대문구 응암로 66  37.578892  126.910736  14.477630"
      ]
     },
     "execution_count": 11,
     "metadata": {},
     "output_type": "execute_result"
    }
   ],
   "source": [
    "station[station['대여소_ID'].isin(base_list)].head()"
   ]
  },
  {
   "cell_type": "code",
   "execution_count": 14,
   "metadata": {},
   "outputs": [],
   "source": [
    "station[station['대여소_ID'].isin(base_list)].to_csv('../Data/서대문구_대여소_정보.csv',index=False)"
   ]
  },
  {
   "cell_type": "code",
   "execution_count": null,
   "metadata": {},
   "outputs": [],
   "source": []
  }
 ],
 "metadata": {
  "kernelspec": {
   "display_name": "base",
   "language": "python",
   "name": "python3"
  },
  "language_info": {
   "codemirror_mode": {
    "name": "ipython",
    "version": 3
   },
   "file_extension": ".py",
   "mimetype": "text/x-python",
   "name": "python",
   "nbconvert_exporter": "python",
   "pygments_lexer": "ipython3",
   "version": "3.12.7"
  }
 },
 "nbformat": 4,
 "nbformat_minor": 2
}
